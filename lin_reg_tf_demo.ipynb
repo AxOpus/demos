{
 "cells": [
  {
   "cell_type": "markdown",
   "metadata": {},
   "source": [
    "# 0 - Overview and setup\n",
    "\n",
    "In these notebooks we are going to present an introduction to machine learning. We are going start by demonstrating how to fit a line to a series of points, and finishing by identifying a collection of handwritten digits. This may not sound much like AI, but the foundational concepts we will go through can be extended to surprisingly complicated tasks. \n",
    "\n",
    "We will be using the [tensorflow](https://www.tensorflow.org/get_started/get_started) framework, which we will introduce later."
   ]
  },
  {
   "cell_type": "markdown",
   "metadata": {},
   "source": [
    "First, we are going to check that all the modules we require are within the environment. We are going to use Python 3 in all the notebooks, so please ensure that you have this installed. "
   ]
  },
  {
   "cell_type": "code",
   "execution_count": 5,
   "metadata": {
    "collapsed": false
   },
   "outputs": [],
   "source": [
    "import tensorflow as tf\n",
    "import sys\n",
    "import numpy as np\n",
    "import matplotlib.pyplot as plt\n",
    "from mpl_toolkits.mplot3d import Axes3D\n",
    "assert sys.version_info.major == 3"
   ]
  },
  {
   "cell_type": "markdown",
   "metadata": {},
   "source": [
    "Now we are going to set the random seed. This will ensure that we can obtain reproducible results each time we run the notebook."
   ]
  },
  {
   "cell_type": "code",
   "execution_count": 4,
   "metadata": {
    "collapsed": true
   },
   "outputs": [],
   "source": [
    "np.random.seed(0)"
   ]
  },
  {
   "cell_type": "markdown",
   "metadata": {},
   "source": [
    "# 1 - Linear regression\n",
    "### 1.1 - Introduction\n",
    "\n",
    "Fundamentally what we are interested in is making predictions. Suppose I have a list of different houses and a description of each with their location, number of rooms, floorspace, etc, and I also have the corresponding price they were sold for. What I would like is to be able to give my machine learning system a new house description and have it accurately predict how much it sold for.\n",
    "\n",
    "We can think of the description of the house as an input, and the price as the output. We then have {input, output} pairs which we can use to develop our system. This type of problem, where we have known outputs is called **supervised learning**, and when our outputs are real-valued numbers, we can use **linear regression** to build the system."
   ]
  },
  {
   "cell_type": "markdown",
   "metadata": {},
   "source": [
    "### 1.2 - Simple example\n",
    "\n",
    "Suppose you are a physicist and you are collecting data from an experiment. Specifically, every hour you measure the temperature of a bar that is being slowly heated. \n",
    "\n",
    "We will record this as a series of $(x, y)$ pairs where $x \\in [0 .. 19]$ is the hour after the experiment start, and $y$ is the temperature of the bar. We will artifically generate the datapoints below."
   ]
  },
  {
   "cell_type": "code",
   "execution_count": 85,
   "metadata": {
    "collapsed": false
   },
   "outputs": [],
   "source": [
    "x_vals = np.arange(20).reshape(-1, 1) # This turns x into a column vector of shape 20x1.\n",
    "y_true_vals = [5*x for x in x_vals] # Generate underlying values\n",
    "y_noisy_vals = np.random.normal(y_true_vals, scale=3.0) # Add gaussian noise to each point"
   ]
  },
  {
   "cell_type": "markdown",
   "metadata": {},
   "source": [
    "Now we will plot the data to check that it is sensible."
   ]
  },
  {
   "cell_type": "code",
   "execution_count": 86,
   "metadata": {
    "collapsed": false
   },
   "outputs": [
    {
     "data": {
      "image/png": "[encoded data removed]",
      "text/plain": [
       "<matplotlib.figure.Figure at 0x11051f128>"
      ]
     },
     "metadata": {},
     "output_type": "display_data"
    }
   ],
   "source": [
    "fig_1 = plt.figure()\n",
    "ax_1 = fig_1.add_subplot(1, 1, 1)\n",
    "ax_1.plot(x_vals, y_noisy_vals, 'x')\n",
    "ax_1.set_xticks(x_vals)\n",
    "ax_1.set_xlabel('Time (hours after experiment start)')\n",
    "ax_1.set_ylabel('Temperature (celsius)')\n",
    "display(fig_1)"
   ]
  },
  {
   "cell_type": "markdown",
   "metadata": {},
   "source": [
    "Ok. This looks like it could be real data. There seems to be a general trend, and we can see that there were perhaps some mistakes made when taking the measurement. Now, let's fit a function to this data.\n",
    "\n",
    "Our function is going to take the form:\n",
    "\n",
    "$$\\hat{y} = w_1 x$$\n",
    "\n",
    "Which means that for an input $x$, we will predict some output $\\hat{y}$, based on the value of $w_1$. We will call this our \"predicting function\".\n",
    "\n",
    "N.B You may wonder why we are fitting _this_ function to the data. How do we know there's not a more complex function that might fit the data better? This is a valid point, and the most straightforward answer is that we tend to prefer simple equations to more complex ones. The reason for this is that simpler equations tend to be more _generalisable_ which we will talk about later in the notebook."
   ]
  },
  {
   "cell_type": "markdown",
   "metadata": {},
   "source": [
    "We need a way to measure how \"good\" our function is, and for that we define something called the **loss**. This is some measure of the difference between the _true_ data, and our _predicted_ values. We are going to measure the L2 loss which we will define as:\n",
    "\n",
    "$$\\mathcal{L}_2 = \\sum_{i=0}^{n}(y_i - \\hat{y}_i)^2$$\n",
    "\n",
    "That is, for every input $x$, we take the squared difference between our prediction, $\\hat{y}$, and the true value $y$, and sum these values. In code:"
   ]
  },
  {
   "cell_type": "code",
   "execution_count": 63,
   "metadata": {
    "collapsed": true
   },
   "outputs": [],
   "source": [
    "def L2loss(y_pred, y):\n",
    "    return np.sum((y_pred-y)**2)"
   ]
  },
  {
   "cell_type": "markdown",
   "metadata": {},
   "source": [
    "We want to minimise this loss. Let's pause for a moment, because we are going to introduce a very important concept: the loss function."
   ]
  },
  {
   "cell_type": "markdown",
   "metadata": {},
   "source": [
    "---"
   ]
  },
  {
   "cell_type": "markdown",
   "metadata": {},
   "source": [
    "If we observe the equation above, we note that the L2 loss is itself a function! Specifically, it is parameterised by $w_1$. So we have a function $\\mathcal{L}_2(w_1)$ that we are trying to minimise. We will call this the loss function."
   ]
  },
  {
   "cell_type": "markdown",
   "metadata": {},
   "source": [
    "Let's step through this with an example. We are going to select a range of different values for $w_1$ and observe the loss function evaluated at these values."
   ]
  },
  {
   "cell_type": "code",
   "execution_count": 81,
   "metadata": {
    "collapsed": false
   },
   "outputs": [
    {
     "name": "stdout",
     "output_type": "stream",
     "text": [
      "w1: 0.00, Loss function: 60703.84\n",
      "w1: 0.56, Loss function: 47873.13\n",
      "w1: 1.11, Loss function: 36567.12\n",
      "w1: 1.67, Loss function: 26785.79\n",
      "w1: 2.22, Loss function: 18529.16\n",
      "w1: 2.78, Loss function: 11797.22\n",
      "w1: 3.33, Loss function: 6589.97\n",
      "w1: 3.89, Loss function: 2907.41\n",
      "w1: 4.44, Loss function: 749.54\n",
      "w1: 5.00, Loss function: 116.37\n",
      "w1: 5.56, Loss function: 1007.88\n",
      "w1: 6.11, Loss function: 3424.09\n",
      "w1: 6.67, Loss function: 7364.98\n",
      "w1: 7.22, Loss function: 12830.57\n",
      "w1: 7.78, Loss function: 19820.85\n",
      "w1: 8.33, Loss function: 28335.83\n",
      "w1: 8.89, Loss function: 38375.49\n",
      "w1: 9.44, Loss function: 49939.84\n",
      "w1: 10.00, Loss function: 63028.89\n"
     ]
    }
   ],
   "source": [
    "w1_values = np.linspace(0, 10, 19)\n",
    "\n",
    "loss_function_values = [] # list to store \n",
    "for w1 in w1_values:\n",
    "    y_pred = w1 * x_vals # this is our predicting equation from above\n",
    "    loss_function_values.append(L2loss(y_pred, y_noisy_vals))\n",
    "    print(\"w1: {:.2f}, Loss function: {:.2f}\".format(w1, L2loss(y_pred, y_noisy_vals)))"
   ]
  },
  {
   "cell_type": "markdown",
   "metadata": {},
   "source": [
    "Now let's plot the values of the loss function, for the different values of $w_1$."
   ]
  },
  {
   "cell_type": "code",
   "execution_count": 88,
   "metadata": {
    "collapsed": false
   },
   "outputs": [
    {
     "data": {
      "image/png": "[encoded data removed]",
      "text/plain": [
       "<matplotlib.figure.Figure at 0x10f2e7588>"
      ]
     },
     "metadata": {},
     "output_type": "display_data"
    }
   ],
   "source": [
    "fig_2 = plt.figure(figsize=(13,5))\n",
    "ax = fig_2.add_subplot(1, 1, 1)\n",
    "ax.plot(w1_values, loss_function_values, 'x')\n",
    "ax.set_xticks(w1_values)\n",
    "ax.set_xlabel(\"w1 values\")\n",
    "ax.set_ylabel(\"L2 loss\")\n",
    "display(fig_2)"
   ]
  },
  {
   "cell_type": "markdown",
   "metadata": {},
   "source": [
    "And select the minimum value for $w_1$:"
   ]
  },
  {
   "cell_type": "code",
   "execution_count": 89,
   "metadata": {
    "collapsed": false
   },
   "outputs": [
    {
     "name": "stdout",
     "output_type": "stream",
     "text": [
      "Value of w1 where loss is minimised: 5.0\n"
     ]
    }
   ],
   "source": [
    "lowest_index = (np.argmin(a_values_costs))\n",
    "print(\"Value of w1 where loss is minimised: {}\".format(w1_values[lowest_index]))"
   ]
  },
  {
   "cell_type": "markdown",
   "metadata": {},
   "source": [
    "Great! We now have our predicting function:\n",
    "\n",
    "$$y = 5x$$\n",
    "\n",
    "If we look at where we generated the artificial data, we indeed find that our underlying equation (before we added the noise) was $y = 5x$, and we have been able to learn this equation from the data. That's us right? Now we can conquer machine learning with our regression model!\n",
    "\n",
    "Not quite. We were lucky that our range of $w1$ values happened to include the minimum. What if we'd only looked at values $\\in [0, 3]$? We need a more robust technique. \n",
    "\n",
    "Before we present that, we want to introduce a few more simple concepts."
   ]
  },
  {
   "cell_type": "markdown",
   "metadata": {},
   "source": [
    "### 1.3 - Bias"
   ]
  },
  {
   "cell_type": "markdown",
   "metadata": {},
   "source": [
    "### 1.4 - Multiple features"
   ]
  }
 ],
 "metadata": {
  "kernelspec": {
   "display_name": "Python [conda env:CS20si]",
   "language": "python",
   "name": "conda-env-CS20si-py"
  },
  "language_info": {
   "codemirror_mode": {
    "name": "ipython",
    "version": 3
   },
   "file_extension": ".py",
   "mimetype": "text/x-python",
   "name": "python",
   "nbconvert_exporter": "python",
   "pygments_lexer": "ipython3",
   "version": "3.5.3"
  }
 },
 "nbformat": 4,
 "nbformat_minor": 2
}
