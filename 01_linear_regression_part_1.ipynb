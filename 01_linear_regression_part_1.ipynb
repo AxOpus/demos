{
 "cells": [
  {
   "cell_type": "markdown",
   "metadata": {},
   "source": [
    "# 0 - Overview and setup\n",
    "\n",
    "In these notebooks we are going to present an introduction to machine learning. We are going start by demonstrating how to fit a line to a series of points, and finishing by identifying a collection of handwritten digits. This may not sound much like AI, but the foundational concepts we will go through can be extended to surprisingly complicated tasks. \n",
    "\n",
    "We will be using the [tensorflow](https://www.tensorflow.org/get_started/get_started) framework, which we will introduce later."
   ]
  },
  {
   "cell_type": "markdown",
   "metadata": {},
   "source": [
    "First, we are going to check that all the modules we require are within the environment. We are going to use Python 3 in all the notebooks, so please ensure that you have this installed. "
   ]
  },
  {
   "cell_type": "code",
   "execution_count": 2,
   "metadata": {
    "collapsed": false
   },
   "outputs": [],
   "source": [
    "import tensorflow as tf\n",
    "import sys\n",
    "import numpy as np\n",
    "import matplotlib.pyplot as plt\n",
    "from mpl_toolkits.mplot3d import Axes3D\n",
    "assert sys.version_info.major == 3"
   ]
  },
  {
   "cell_type": "markdown",
   "metadata": {},
   "source": [
    "Now we are going to set the random seed. This will ensure that we can obtain reproducible results each time we run the notebook."
   ]
  },
  {
   "cell_type": "code",
   "execution_count": 3,
   "metadata": {
    "collapsed": true
   },
   "outputs": [],
   "source": [
    "np.random.seed(0)"
   ]
  },
  {
   "cell_type": "markdown",
   "metadata": {},
   "source": [
    "# 1 - Linear regression\n",
    "### 1.1 - Introduction\n",
    "\n",
    "Fundamentally what we are interested in is making predictions. Suppose I have a list of different houses and a description of each with their location, number of rooms, floorspace, etc, and I also have the corresponding price they were sold for. What I would like is to be able to give my machine learning system a new house description and have it accurately predict how much it sold for.\n",
    "\n",
    "We can think of the description of the house as an input, and the price as the output. We then have {input, output} pairs which we can use to develop our system. This type of problem, where we have known outputs is called **supervised learning**, and when our outputs are real-valued numbers, we can use **linear regression** to build the system."
   ]
  },
  {
   "cell_type": "markdown",
   "metadata": {},
   "source": [
    "### 1.2 - Simple example\n",
    "\n",
    "Suppose you are a physicist and you are collecting data from an experiment. Specifically, every hour you measure the temperature of a bar that is being slowly heated. \n",
    "\n",
    "We will record this as a series of $(x, y)$ pairs where $x \\in [0 .. 19]$ is the hour after the experiment start, and $y$ is the temperature of the bar. We will artifically generate the datapoints below."
   ]
  },
  {
   "cell_type": "code",
   "execution_count": 4,
   "metadata": {
    "collapsed": false
   },
   "outputs": [],
   "source": [
    "x_vals = np.arange(20).reshape(-1, 1) # This turns x into a column vector of shape 20x1.\n",
    "y_true_vals = 5*x_vals # Generate underlying values\n",
    "y_noisy_vals = np.random.normal(y_true_vals, scale=3.0) # Add gaussian noise to each point"
   ]
  },
  {
   "cell_type": "markdown",
   "metadata": {},
   "source": [
    "Now we will plot the data to check that it is sensible."
   ]
  },
  {
   "cell_type": "code",
   "execution_count": 5,
   "metadata": {
    "collapsed": false
   },
   "outputs": [
    {
     "data": {
      "image/png": "[encoded data removed]",
      "text/plain": [
       "<matplotlib.figure.Figure at 0x1068785c0>"
      ]
     },
     "metadata": {},
     "output_type": "display_data"
    }
   ],
   "source": [
    "fig_1 = plt.figure()\n",
    "ax_1 = fig_1.add_subplot(1, 1, 1)\n",
    "ax_1.plot(x_vals, y_noisy_vals, 'x')\n",
    "ax_1.set_xticks(x_vals)\n",
    "ax_1.set_xlabel('Time (hours after experiment start)')\n",
    "ax_1.set_ylabel('Temperature (celsius)')\n",
    "display(fig_1)"
   ]
  },
  {
   "cell_type": "markdown",
   "metadata": {},
   "source": [
    "Ok. This looks like it could be real data. There seems to be a general trend, and we can see that there were perhaps some mistakes made when taking the measurement. Now, let's fit a function to this data.\n",
    "\n",
    "Our function is going to take the form:\n",
    "\n",
    "$$\\hat{y} = w_1 x$$\n",
    "\n",
    "Which means that for an input $x$, we will predict some output $\\hat{y}$, based on the value of $w_1$. We will call this our \"predicting function\". The term $w_1$ is what we will call a **weight**, and we are going to try and learn its value.\n",
    "\n",
    "N.B You may wonder why we are fitting _this_ function to the data. How do we know there's not a more complex function that might fit the data better? This is a valid point, and the most straightforward answer is that we tend to prefer simple equations to more complex ones. The reason for this is that simpler equations tend to be more _generalisable_ which we will talk about later in the notebook."
   ]
  },
  {
   "cell_type": "markdown",
   "metadata": {},
   "source": [
    "We need a way to measure how \"good\" our function is, and for that we define something called the **loss**. This is some measure of the difference between the _true_ data, and our _predicted_ values. We are going to measure the L2 loss which we will define as:\n",
    "\n",
    "$$\\mathcal{L}_2 = \\frac{1}{2n}\\sum_{i=0}^{n}(\\hat{y}_i - y_i)^2$$\n",
    "\n",
    "That is, for every input $x$, we take the squared difference between our prediction, $\\hat{y}$, and the true value $y$, and sum these values. We also divide by twice the number of datapoints, this stops the loss growing too rapidly, and makes it slightly easier to handle numerically.\n",
    "\n",
    "In code:"
   ]
  },
  {
   "cell_type": "code",
   "execution_count": 6,
   "metadata": {
    "collapsed": true
   },
   "outputs": [],
   "source": [
    "def L2_loss_example(y_pred, y):\n",
    "    return np.sum((y_pred-y)**2) / (2 * y_pred.shape[0])"
   ]
  },
  {
   "cell_type": "markdown",
   "metadata": {},
   "source": [
    "We want to minimise this loss. Let's pause for a moment, because we are going to introduce a very important concept: the loss function."
   ]
  },
  {
   "cell_type": "markdown",
   "metadata": {},
   "source": [
    "---"
   ]
  },
  {
   "cell_type": "markdown",
   "metadata": {},
   "source": [
    "If we observe the equation above, we note that the L2 loss is itself a function! Specifically, it is parameterised by $w_1$. So we have a function that we are trying to minimise. We will call this the loss function."
   ]
  },
  {
   "cell_type": "markdown",
   "metadata": {},
   "source": [
    "Let's step through this with an example. We are going to select a range of different values for $w_1$ and observe the loss function evaluated at these values. This is what's called a **grid search**."
   ]
  },
  {
   "cell_type": "code",
   "execution_count": 7,
   "metadata": {
    "collapsed": false
   },
   "outputs": [
    {
     "name": "stdout",
     "output_type": "stream",
     "text": [
      "w1: 0.00, Loss function: 1599.74\n",
      "w1: 0.56, Loss function: 1270.04\n",
      "w1: 1.11, Loss function: 978.47\n",
      "w1: 1.67, Loss function: 725.01\n",
      "w1: 2.22, Loss function: 509.67\n",
      "w1: 2.78, Loss function: 332.44\n",
      "w1: 3.33, Loss function: 193.33\n",
      "w1: 3.89, Loss function: 92.34\n",
      "w1: 4.44, Loss function: 29.47\n",
      "w1: 5.00, Loss function: 4.71\n",
      "w1: 5.56, Loss function: 18.07\n",
      "w1: 6.11, Loss function: 69.55\n",
      "w1: 6.67, Loss function: 159.15\n",
      "w1: 7.22, Loss function: 286.86\n",
      "w1: 7.78, Loss function: 452.69\n",
      "w1: 8.33, Loss function: 656.64\n",
      "w1: 8.89, Loss function: 898.70\n",
      "w1: 9.44, Loss function: 1178.88\n",
      "w1: 10.00, Loss function: 1497.18\n"
     ]
    }
   ],
   "source": [
    "w1_values = np.linspace(0, 10, 19)\n",
    "\n",
    "loss_function_values = []\n",
    "for w1 in w1_values:\n",
    "    y_pred = w1 * x_vals # this is our predicting equation from above\n",
    "    loss_function_values.append(L2_loss_example(y_pred, y_noisy_vals))\n",
    "    print(\"w1: {:.2f}, Loss function: {:.2f}\".format(w1, L2_loss_example(y_pred, y_noisy_vals)))"
   ]
  },
  {
   "cell_type": "markdown",
   "metadata": {},
   "source": [
    "Now let's plot the values of the loss function, for the different values of $w_1$."
   ]
  },
  {
   "cell_type": "code",
   "execution_count": 8,
   "metadata": {
    "collapsed": false
   },
   "outputs": [
    {
     "data": {
      "image/png": "[encoded data removed]",
      "text/plain": [
       "<matplotlib.figure.Figure at 0x106a39828>"
      ]
     },
     "metadata": {},
     "output_type": "display_data"
    }
   ],
   "source": [
    "fig_2 = plt.figure(figsize=(13,5))\n",
    "ax = fig_2.add_subplot(1, 1, 1)\n",
    "ax.plot(w1_values, loss_function_values, 'x')\n",
    "ax.plot(w1_values, loss_function_values)\n",
    "ax.set_xticks(w1_values)\n",
    "ax.set_xlabel(\"w1 values\")\n",
    "ax.set_ylabel(\"L2 loss\")\n",
    "display(fig_2)"
   ]
  },
  {
   "cell_type": "markdown",
   "metadata": {},
   "source": [
    "And select the minimum value for $w_1$:"
   ]
  },
  {
   "cell_type": "code",
   "execution_count": 9,
   "metadata": {
    "collapsed": false
   },
   "outputs": [
    {
     "name": "stdout",
     "output_type": "stream",
     "text": [
      "Value of w1 where loss is minimised: 5.0\n"
     ]
    }
   ],
   "source": [
    "lowest_index = (np.argmin(loss_function_values))\n",
    "print(\"Value of w1 where loss is minimised: {}\".format(w1_values[lowest_index]))"
   ]
  },
  {
   "cell_type": "markdown",
   "metadata": {},
   "source": [
    "Great! We now have our predicting function:\n",
    "\n",
    "$$y = 5x$$\n",
    "\n",
    "If we look at where we generated the artificial data, we indeed find that our underlying equation (before we added the noise) was $y = 5x$, and we have been able to learn this equation from the data. That's us right? Now we can conquer machine learning with our regression model!\n",
    "\n",
    "Not quite. We were lucky that our range of $w1$ values happened to include the minimum. What if we'd only looked at values $\\in [0, 3]$? We need a more robust technique."
   ]
  },
  {
   "cell_type": "markdown",
   "metadata": {},
   "source": [
    "### 1.3 - Gradient descent\n",
    "\n",
    "Now, we are going to take a pretty big jump. I'll try and explain this as simply as possible, because there are going to be quite a lot of new concepts.\n",
    "\n",
    "Imagine you are a small man that lives in your computer screen, and you are currently stuck on the plot above, where $w_1$ = 0.0. Suppose I tell you that I'll let you escape if you can find the minimum value of $w_1$ for me. What would you do? You would simply walk down the orange line of the graph until you reached the bottom. Congratulations! You're free! That's what gradient descent does, at least at a cartoon level.\n",
    "\n",
    "Specifically gradient descent computes the derivative (gradient) of the slope of the loss function and moves the $w_1$ value accordingly. This process is repeated until we reach a (local) minima.\n",
    "\n",
    "![Grad_desc](https://cdn-images-1.medium.com/max/1600/1*ZmzSnV6xluGa42wtU7KYVA.gif)\n",
    "\n",
    "This gif is taken from [this](https://hackernoon.com/life-is-gradient-descent-880c60ac1be8) more complete walk-through of gradient descent, and is certainly worth reading.\n",
    "\n",
    "Gradient descent is an iterative algorithm, which takes 'steps' down the slope, and updates the weight parameters as it goes. In our case:\n",
    "\n",
    "$$w_1 \\leftarrow w_1 - \\alpha \\frac{d\\mathcal{L}_2(w_1)}{dw_1}$$\n",
    "\n",
    "This step would be repeated until convergence.\n",
    "\n",
    "The $\\alpha$ term is called the 'learning rate' or 'step size', and this is something we set. It controls how much of a step we take at each update. In ML we refer to this as a 'hyperparameter'. That is, it is a parameter of the model, but we set its value, whereas the weight paramaters of the model are learned. Usually, this value will be set to some small value such as 0.001, however in practice this will need to be tuned.\n",
    "\n",
    "If you recall from calculus classes, we can compute the gradient numerically as follows:\n",
    "\n",
    "$$\\frac{df}{dx} \\approx \\frac{f(x + \\epsilon) - f(x - \\epsilon)}{2\\epsilon}$$ where, in the limit of $\\epsilon$ we obtain the true derivative. Let's write a function to compute this."
   ]
  },
  {
   "cell_type": "code",
   "execution_count": 10,
   "metadata": {
    "collapsed": true
   },
   "outputs": [],
   "source": [
    "def numerical_gradient(f, x):\n",
    "    eps = 1e-9 # some small floating point value\n",
    "    return (f(x + eps) - f(x - eps))/ (2 * eps)"
   ]
  },
  {
   "cell_type": "markdown",
   "metadata": {},
   "source": [
    "So what we want to do at each step is evaluate: \n",
    "\n",
    "$$\\frac{\\mathcal{L}_2(w_1 + \\epsilon) - \\mathcal{L}_2(w_1 - \\epsilon)}{2\\epsilon}$$"
   ]
  },
  {
   "cell_type": "markdown",
   "metadata": {},
   "source": [
    "We are now going to modify our L2 code function from before to make this step slightly clearer:"
   ]
  },
  {
   "cell_type": "code",
   "execution_count": 11,
   "metadata": {
    "collapsed": false
   },
   "outputs": [],
   "source": [
    "def L2_loss(w):\n",
    "    global x_vals\n",
    "    global y_noisy_vals\n",
    "    \n",
    "    return np.sum((w * x_vals - y_noisy_vals)**2)/(2 * y_noisy_vals.shape[0])\n",
    "\n",
    "# Sanity check\n",
    "for w1 in [-1, 0, 1]:\n",
    "    y_pred = w1 * x_vals\n",
    "    assert L2_loss(w1) == L2_loss_example(y_pred, y_noisy_vals)"
   ]
  },
  {
   "cell_type": "markdown",
   "metadata": {},
   "source": [
    "Ok! Let's do some gradient descent. One final thing to note is that the weight needs to be **initialised**. This is an active research topic at present in ML, and far outside the scope of this notebook. A rule of thumb is that you **NEVER** initialise weights to 0, rather initialise them to some small random number (see [here](http://cs231n.github.io/neural-networks-2/#init) for detail).\n",
    "\n",
    "What we will do is select a random initialisation and perform gradient descent from that starting point. Also, we will choose four different learning rates, so in total, we will estimate four different models."
   ]
  },
  {
   "cell_type": "code",
   "execution_count": 12,
   "metadata": {
    "collapsed": false
   },
   "outputs": [
    {
     "name": "stdout",
     "output_type": "stream",
     "text": [
      "Init: -2.55, Learning rate: 0.0001\n",
      "I found the minimum at: w1 = 5.082961613124323\n",
      "It took: 923 iterations\n",
      "----------------\n",
      "Init: -2.55, Learning rate: 0.001\n",
      "I found the minimum at: w1 = 5.083034779042092\n",
      "It took: 19 iterations\n",
      "----------------\n",
      "Init: -2.55, Learning rate: 0.01\n",
      "I found the minimum at: w1 = 5.083041373766858\n",
      "It took: 3 iterations\n",
      "----------------\n",
      "Init: -2.55, Learning rate: 0.1\n",
      "I found the minimum at: w1 = 58110198.617416054\n",
      "It took: 15 iterations\n",
      "----------------\n"
     ]
    }
   ],
   "source": [
    "learning_rates = [0.0001, 0.001, 0.01, 0.1] # Learning rates\n",
    "initialisation = -2.55 # This is hardcoded to be the same random number on all workbooks\n",
    "w_old = None\n",
    "\n",
    "\n",
    "w_1 = initialisation\n",
    "for j, learning_rate in enumerate(learning_rates):\n",
    "    w_1_vals = [w_1]\n",
    "    total_iterations = 0\n",
    "    print(\"Init: {:.2f}, Learning rate: {}\".format(initialisation, learning_rate))\n",
    "    # we will keep taking steps until we converge\n",
    "    # which we will define as the value of our weight\n",
    "    # does not change beyond some small value\n",
    "    while True:\n",
    "        w_old = w_1\n",
    "        w_1 = w_1 - learning_rate * numerical_gradient(L2_loss, w_1) # this is our update step\n",
    "        total_iterations += 1\n",
    "        w_1_vals.append(w_1)\n",
    "        \n",
    "        if np.abs(w_1 - w_old) < 1e-6:\n",
    "            print(\"I found the minimum at: w1 = {}\".format(w_1))\n",
    "            print(\"It took: {} iterations\".format(total_iterations))\n",
    "            print(\"----------------\")\n",
    "            break"
   ]
  },
  {
   "cell_type": "markdown",
   "metadata": {},
   "source": [
    "And that's gradient descent! It all looks fantast-- hmm. That's not right. What happened in the last model?\n",
    "\n",
    "Well, if we set our learning rate too high, and we have a large gradient, then we will take a large step and we may overshoot our minima. We then take another large step and overshoot it _again_. This process will keep repeating, and we may never converge, or we may end up taking the derivative of a near vertical slope which (due to numerical issues) will return a gradient of 0, and the algorithm will terminate.\n",
    "\n",
    "The lesson here is: start with a small learning rate, and adjust it carefully.\n",
    "\n",
    "We can see that in three of the models we converged on an optimum value $w_1\\approx 5.083$. This is very close to the value we found in grid search, however because we are not constrained to just choosing values in the grid, we are able to obtain a more acurate answer."
   ]
  },
  {
   "cell_type": "markdown",
   "metadata": {},
   "source": [
    "### 1.5 - Recap\n",
    "Ok! We've done quite a lot so far. Who would have thought fitting a line could be so much work!\n",
    "\n",
    "Before we dive into TensorFlow, we'll recap what we've done to give you an anchor.\n",
    "\n",
    "1. We have some data, and we want to fit a function to that data.\n",
    "    - We want to do this so that given some (possibly unseen) input, we can make a prediction based on our function.\n",
    "2. We need a measure of how 'good' our function is.\n",
    "3. We measure how good our function is by a separate loss function.\n",
    "    - In our case we used L2 loss, the sum of the squared differences.\n",
    "4. The minimum of the loss function gives the optimum values of the weights we should use.\n",
    "5. We can find this minimum of the loss by a procedure called \"gradient descent\"."
   ]
  },
  {
   "cell_type": "markdown",
   "metadata": {},
   "source": [
    "The next notebook will introduce the TensorFlow framework."
   ]
  },
  {
   "cell_type": "code",
   "execution_count": 13,
   "metadata": {
    "collapsed": true
   },
   "outputs": [],
   "source": [
    "# OPTIONAL:\n",
    "\n",
    "# Try fitting your own randomly generated data to make sure you understand what's going on.\n",
    "\n",
    "### YOUR CODE HERE ###"
   ]
  }
 ],
 "metadata": {
  "kernelspec": {
   "display_name": "Python [conda env:tf_env]",
   "language": "python",
   "name": "conda-env-tf_env-py"
  },
  "language_info": {
   "codemirror_mode": {
    "name": "ipython",
    "version": 3
   },
   "file_extension": ".py",
   "mimetype": "text/x-python",
   "name": "python",
   "nbconvert_exporter": "python",
   "pygments_lexer": "ipython3",
   "version": "3.6.2"
  }
 },
 "nbformat": 4,
 "nbformat_minor": 2
}
