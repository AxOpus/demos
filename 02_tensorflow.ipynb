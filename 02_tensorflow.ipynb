{
 "cells": [
  {
   "cell_type": "code",
   "execution_count": 1,
   "metadata": {
    "collapsed": true
   },
   "outputs": [],
   "source": [
    "import tensorflow as tf\n",
    "import sys\n",
    "import numpy as np\n",
    "import matplotlib.pyplot as plt\n",
    "from mpl_toolkits.mplot3d import Axes3D\n",
    "assert sys.version_info.major == 3\n",
    "np.random.seed(0)"
   ]
  },
  {
   "cell_type": "markdown",
   "metadata": {},
   "source": [
    "# 2 - TensorFlow\n",
    "### 2.1 - Overview\n",
    "\n",
    "Now we're going to introduce the TensorFlow (TF) framework. This is very much using a sledgehammer to crack a nut, but introducing it in this simple example provides an nice opportunity to explain it. This introduction is largely taken from the [official](https://www.tensorflow.org/get_started/get_started) getting started guide.\n",
    "\n",
    "TF takes its name from the **tensor** which is a data structure of primative values, which are shaped into an array:"
   ]
  },
  {
   "cell_type": "markdown",
   "metadata": {},
   "source": [
    "```Python\n",
    "3 # a rank 0 tensor; this is a scalar with shape []\n",
    "[1., 2., 3.] # a rank 1 tensor; this is a vector with shape [3]\n",
    "[[1., 2., 3.], [4., 5., 6.]] # a rank 2 tensor; a matrix with shape [2, 3]\n",
    "[[[1., 2., 3.]], [[7., 8., 9.]]] # a rank 3 tensor with shape [2, 1, 3]\n",
    "```"
   ]
  },
  {
   "cell_type": "markdown",
   "metadata": {},
   "source": [
    "Think. What would a tensor of shape [1, 2, 3, 4] look like? \n",
    "\n",
    "Hint: the dimensions are the same as in numpy, so you can play around with that to get a feel for higher-dimensional matrices."
   ]
  },
  {
   "cell_type": "code",
   "execution_count": 2,
   "metadata": {
    "collapsed": false
   },
   "outputs": [
    {
     "name": "stdout",
     "output_type": "stream",
     "text": [
      "(2, 3)\n",
      "(2, 1, 3)\n"
     ]
    }
   ],
   "source": [
    "a = np.array([[1., 2., 3.], [4., 5., 6.]])\n",
    "b = np.array([[[1., 2., 3.]], [[7., 8., 9.]]])\n",
    "print(a.shape)\n",
    "print(b.shape)"
   ]
  },
  {
   "cell_type": "markdown",
   "metadata": {},
   "source": [
    "TF is a framework which is designed to facilitate the development of deep learning, and can be thought of as creating a a program in two parts:\n",
    "\n",
    "1. Building the computational graph\n",
    "2. Running the computational graph\n",
    "\n",
    "A computational graph can be though of as a series of **nodes** which take in 0 or more tensors and output a tensor. This could be a node which creates a constant tensor (takes in 0 tensors and outputs 1 tensor), or a node which multiplies tensors together (takes in $n$ tensors, and outputs 1 tensor). In the latter example, these are known as **operations**.\n",
    "\n",
    "Think of the computational graph as being like a series of pipes, that split and rejoin at various points. Running the computational graph would be like pouring water into the pipes, and seeing it flow around the pipework. Although instead of water, we have data.\n",
    "\n",
    "Let's start with some simple examples."
   ]
  },
  {
   "cell_type": "markdown",
   "metadata": {},
   "source": [
    "### 2.2 - Getting started\n",
    "\n",
    "Let's build a node which creates a constant:"
   ]
  },
  {
   "cell_type": "code",
   "execution_count": 3,
   "metadata": {
    "collapsed": true
   },
   "outputs": [],
   "source": [
    "node_1 = tf.constant(3.0, dtype=tf.float32, name='node_1')"
   ]
  },
  {
   "cell_type": "markdown",
   "metadata": {},
   "source": [
    "That seems like a lot of code to produce a constant floating point number, and it is, especially if you are used to Python. However it helps to construct the graph, since it is very explicit. From the docs:\n",
    "```\n",
    "tf.constant(value, dtype=None, shape=None, name='Const', verify_shape=False)\n",
    "```\n",
    "\n",
    "So we can see that there is a slightly more compact way to create the node, if we wanted:\n",
    "\n",
    "```\n",
    "node_1 = tf.constant(3.0)\n",
    "```\n",
    "\n",
    "However, at this stage it helps to get into the habit of being explicit, _especially_ with naming."
   ]
  },
  {
   "cell_type": "markdown",
   "metadata": {},
   "source": [
    "What happens when we print this node? Should we see 3.0?"
   ]
  },
  {
   "cell_type": "code",
   "execution_count": 6,
   "metadata": {
    "collapsed": false
   },
   "outputs": [
    {
     "name": "stdout",
     "output_type": "stream",
     "text": [
      "Tensor(\"node_1:0\", shape=(), dtype=float32)\n"
     ]
    }
   ],
   "source": [
    "print(node_1)"
   ]
  },
  {
   "cell_type": "markdown",
   "metadata": {},
   "source": [
    "Hmm, that's odd. We've got a tensor, with the name of the node, but not much else. This is because we have only completed the first part of the program: building the computational graph. We still need to run the graph.\n",
    "\n",
    "To do this, we need to first create a session. This is an object which encapsulates the environment in which operations are exececuted:"
   ]
  },
  {
   "cell_type": "code",
   "execution_count": 10,
   "metadata": {
    "collapsed": true
   },
   "outputs": [],
   "source": [
    "sess = tf.Session()"
   ]
  },
  {
   "cell_type": "markdown",
   "metadata": {},
   "source": [
    "We can then use this object's ```run``` method to execute our node."
   ]
  },
  {
   "cell_type": "code",
   "execution_count": 11,
   "metadata": {
    "collapsed": false
   },
   "outputs": [
    {
     "data": {
      "text/plain": [
       "3.0"
      ]
     },
     "execution_count": 11,
     "metadata": {},
     "output_type": "execute_result"
    }
   ],
   "source": [
    "sess.run(node_1)"
   ]
  },
  {
   "cell_type": "markdown",
   "metadata": {},
   "source": [
    "We now need to close our session, to avoid using resources that may be required by other sessions."
   ]
  },
  {
   "cell_type": "code",
   "execution_count": 13,
   "metadata": {
    "collapsed": true
   },
   "outputs": [],
   "source": [
    "sess.close()"
   ]
  },
  {
   "cell_type": "markdown",
   "metadata": {},
   "source": [
    "Because of this, it is more common to construct sessions using the ```with``` statement:"
   ]
  },
  {
   "cell_type": "code",
   "execution_count": 14,
   "metadata": {
    "collapsed": false
   },
   "outputs": [
    {
     "name": "stdout",
     "output_type": "stream",
     "text": [
      "3.0\n"
     ]
    }
   ],
   "source": [
    "with tf.Session() as sess:\n",
    "    print(sess.run(node_1))"
   ]
  },
  {
   "cell_type": "markdown",
   "metadata": {},
   "source": [
    "This automatically closes the session."
   ]
  },
  {
   "cell_type": "markdown",
   "metadata": {},
   "source": [
    "### 2.2 - Operations\n",
    "\n",
    "Now we are going to build a very simple graph, which adds two numbers together. \n",
    "\n",
    "First create our constants:"
   ]
  },
  {
   "cell_type": "code",
   "execution_count": 15,
   "metadata": {
    "collapsed": true
   },
   "outputs": [],
   "source": [
    "node_1 = tf.constant(3.0, dtype=tf.float32, name='node_1')\n",
    "node_2 = tf.constant(5.0, dtype=tf.float32, name='node_2')"
   ]
  },
  {
   "cell_type": "markdown",
   "metadata": {},
   "source": [
    "Now, we are going to create a node to add these two nodes together:"
   ]
  },
  {
   "cell_type": "code",
   "execution_count": 16,
   "metadata": {
    "collapsed": false
   },
   "outputs": [],
   "source": [
    "node_3 = tf.add(node_1, node_2)"
   ]
  },
  {
   "cell_type": "markdown",
   "metadata": {},
   "source": [
    "Remember, we have just built the graph at the moment. Now, let's run it:"
   ]
  },
  {
   "cell_type": "code",
   "execution_count": 18,
   "metadata": {
    "collapsed": false
   },
   "outputs": [
    {
     "name": "stdout",
     "output_type": "stream",
     "text": [
      "8.0\n"
     ]
    }
   ],
   "source": [
    "with tf.Session() as sess:\n",
    "    print(sess.run(node_3))"
   ]
  },
  {
   "cell_type": "markdown",
   "metadata": {},
   "source": [
    "Our first (proper) graph works! At this stage it may not be clear exactly why we need all this code to add two numbers together, but hopefully it will become clearer shortly."
   ]
  },
  {
   "cell_type": "code",
   "execution_count": 20,
   "metadata": {
    "collapsed": true
   },
   "outputs": [],
   "source": [
    "# OPTIONAL\n",
    "# Multiply the two numbers together\n",
    "\n",
    "### YOUR CODE HERE ###"
   ]
  },
  {
   "cell_type": "markdown",
   "metadata": {},
   "source": [
    "### 2.3 - Placeholders"
   ]
  },
  {
   "cell_type": "code",
   "execution_count": null,
   "metadata": {
    "collapsed": true
   },
   "outputs": [],
   "source": []
  }
 ],
 "metadata": {
  "kernelspec": {
   "display_name": "Python [conda env:tf_env]",
   "language": "python",
   "name": "conda-env-tf_env-py"
  },
  "language_info": {
   "codemirror_mode": {
    "name": "ipython",
    "version": 3
   },
   "file_extension": ".py",
   "mimetype": "text/x-python",
   "name": "python",
   "nbconvert_exporter": "python",
   "pygments_lexer": "ipython3",
   "version": "3.6.2"
  }
 },
 "nbformat": 4,
 "nbformat_minor": 2
}
