{
 "cells": [
  {
   "cell_type": "code",
   "execution_count": 1,
   "metadata": {
    "collapsed": false
   },
   "outputs": [],
   "source": [
    "import tensorflow as tf\n",
    "import sys\n",
    "import numpy as np\n",
    "import matplotlib.pyplot as plt\n",
    "from mpl_toolkits.mplot3d import Axes3D\n",
    "assert sys.version_info.major == 3\n",
    "np.random.seed(1)\n",
    "from sklearn.linear_model import LinearRegression"
   ]
  },
  {
   "cell_type": "markdown",
   "metadata": {},
   "source": [
    "# 3 - Linear Regression Revisited\n",
    "\n",
    "Recall from notebook 1 that we were trying to fit a line to a series of points. To do so we measured a loss function, which tells us how 'good' a fit to the points we have. We minimised this loss function using a process called gradient descent.\n",
    "\n",
    "We're now going to expand on this example, and introduce solving it with TensorFlow."
   ]
  },
  {
   "cell_type": "markdown",
   "metadata": {},
   "source": [
    "### 3.1 - Bias\n",
    "\n",
    "If you recall from school, you will have seen that the equation of a line is:\n",
    "\n",
    "$$y = ax + b$$\n",
    "\n",
    "In this equation $b$ is called the intercept. This is an extremely important term, because by including it, our line no longer has to pass through the origin. Now, we are able to represent any line on the $xy$ plane. This is shown below:"
   ]
  },
  {
   "cell_type": "code",
   "execution_count": 2,
   "metadata": {
    "collapsed": false
   },
   "outputs": [
    {
     "name": "stderr",
     "output_type": "stream",
     "text": [
      "/Users/Alasdair/anaconda/envs/tf_env/lib/python3.6/site-packages/scipy/linalg/basic.py:1018: RuntimeWarning: internal gelsd driver lwork query error, required iwork dimension not returned. This is likely the result of LAPACK bug 0038, fixed in LAPACK 3.2.2 (released July 21, 2010). Falling back to 'gelss' driver.\n",
      "  warnings.warn(mesg, RuntimeWarning)\n"
     ]
    },
    {
     "data": {
      "image/png": "[encoded data removed]",
      "text/plain": [
       "<matplotlib.figure.Figure at 0x116d0ccf8>"
      ]
     },
     "metadata": {},
     "output_type": "display_data"
    }
   ],
   "source": [
    "x_vals = np.arange(20).reshape(-1, 1)\n",
    "y_vals = 2 * x_vals + 20\n",
    "y_noisy_vals = np.random.normal(y_vals, scale=1.0)\n",
    "\n",
    "\n",
    "## Don't worry about this code\n",
    "## it uses a Python library (sklearn)\n",
    "## which we havent't covered\n",
    "fit_bias = LinearRegression()\n",
    "fit_no_bias = LinearRegression(fit_intercept=False)\n",
    "\n",
    "fit_bias.fit(x_vals, y_noisy_vals)\n",
    "fit_no_bias.fit(x_vals, y_noisy_vals)\n",
    "\n",
    "fig_1 = plt.figure()\n",
    "ax_1 = fig_1.add_subplot(1, 1, 1)\n",
    "ax_1.plot(x_vals, y_noisy_vals, 'x')\n",
    "ax_1.set_xticks(x_vals)\n",
    "bias, = ax_1.plot(x_vals, fit_bias.coef_ * x_vals + fit_bias.intercept_, label='With intercept')\n",
    "no_bias, = ax_1.plot(x_vals, fit_no_bias.coef_ * x_vals + fit_no_bias.intercept_, label='Without intercept')\n",
    "plt.legend(handles=[bias, no_bias])\n",
    "plt.show()"
   ]
  },
  {
   "cell_type": "markdown",
   "metadata": {},
   "source": [
    "We can see what the intercept term does in this example, it allows the line to 'meet' the data, rather than being constrained to the origin.\n",
    "\n",
    "In ML it is more common to refer to the intercept as the **bias**. We will redefine the equation in our notation:\n",
    "\n",
    "$$y = w_0 + w_1 x$$"
   ]
  },
  {
   "cell_type": "markdown",
   "metadata": {},
   "source": [
    "### 3.2 - Fitting with TensorFlow\n",
    "\n",
    "We will now fit this model using TensorFlow.\n",
    "\n",
    "First we create our variables, which are the weights of our regression model, and our placeholders:"
   ]
  },
  {
   "cell_type": "code",
   "execution_count": 4,
   "metadata": {
    "collapsed": false
   },
   "outputs": [],
   "source": [
    "tf.reset_default_graph()\n",
    "w_0 = tf.get_variable('w_0', dtype=tf.float32, initializer=0.0)\n",
    "w_1 = tf.get_variable('w_1', shape=[], dtype=tf.float32, initializer=tf.contrib.layers.xavier_initializer())\n",
    "\n",
    "x = tf.placeholder(dtype=tf.float32, shape = [None, 1], name='x')\n",
    "y = tf.placeholder(dtype=tf.float32, shape = [None, 1], name='y')"
   ]
  },
  {
   "cell_type": "markdown",
   "metadata": {},
   "source": [
    "It is acceptable to initialise the bias term as 0, for reasons we won't go into yet.\n",
    "\n",
    "You may be wondering what is going on with the x and y placeholders' shapes. It is often the case that we may not know how many training examples we will have prior to feeding in the data. In this instance, we can set the shape to the best of our knowledge and let TF work it out at runtime.\n",
    "\n",
    "We then define the operation to initialise our variables:"
   ]
  },
  {
   "cell_type": "code",
   "execution_count": 5,
   "metadata": {
    "collapsed": true
   },
   "outputs": [],
   "source": [
    "init = tf.global_variables_initializer()"
   ]
  },
  {
   "cell_type": "markdown",
   "metadata": {},
   "source": [
    "Now we define the function which will make the predictions:"
   ]
  },
  {
   "cell_type": "code",
   "execution_count": 6,
   "metadata": {
    "collapsed": true
   },
   "outputs": [],
   "source": [
    "y_pred = w_0 + w_1 * x"
   ]
  },
  {
   "cell_type": "markdown",
   "metadata": {},
   "source": [
    "And the loss function:"
   ]
  },
  {
   "cell_type": "code",
   "execution_count": 7,
   "metadata": {
    "collapsed": true
   },
   "outputs": [],
   "source": [
    "n = x_vals.shape[0]\n",
    "l2_loss = tf.reduce_sum(tf.pow(y_pred - y, 2))/(2 * n)"
   ]
  },
  {
   "cell_type": "markdown",
   "metadata": {},
   "source": [
    "Now, in the previous notebook, we defined our gradient descent operation manually, and we calculated the gradient analytically. In TF we define an _optimiser_, which will do this for us:\n",
    "\n",
    "```optimizer = tf.train.GradientDescentOptimizer(learning_rate).minimize(cost)```\n",
    "\n",
    "We can see that we are using a gradient descent optimiser, where we can define the learning rate. It is a class, and we can call the ```minimize``` method of it, by supplying the function we want to minimise.\n",
    "\n",
    "We will define our optimiser as follows:"
   ]
  },
  {
   "cell_type": "code",
   "execution_count": 8,
   "metadata": {
    "collapsed": true
   },
   "outputs": [],
   "source": [
    "optimizer = tf.train.GradientDescentOptimizer(0.01).minimize(l2_loss)"
   ]
  },
  {
   "cell_type": "markdown",
   "metadata": {},
   "source": [
    "Now we can construct and run our graph:"
   ]
  },
  {
   "cell_type": "code",
   "execution_count": 9,
   "metadata": {
    "collapsed": false
   },
   "outputs": [
    {
     "name": "stdout",
     "output_type": "stream",
     "text": [
      "gradient descent w0: 19.70101547241211\n",
      "Underlying w0: 20\n",
      "gradient descent w1: 2.0509192943573\n",
      "Underlying w1: 2\n"
     ]
    }
   ],
   "source": [
    "with tf.Session() as sess:\n",
    "    sess.run(init)\n",
    "    \n",
    "    # We will run the optimiser for 1000 steps\n",
    "    for step in range(0, 1000):\n",
    "        sess.run(optimizer, feed_dict={x: x_vals, y: y_noisy_vals})\n",
    "#         print(\"w_0: {}\".format(sess.run(w_0)))\n",
    "#         print(\"w_1: {}\".format(sess.run(w_1)))\n",
    "#         print(sess.run(l2_loss, feed_dict={x: x_vals, y: y_noisy_vals}))\n",
    "        w_0_tf = sess.run(w_0)\n",
    "        w_1_tf = sess.run(w_1)\n",
    "        \n",
    "print(\"gradient descent w0: {}\".format(w_0_tf))\n",
    "print(\"Underlying w0: {}\".format(20))\n",
    "print(\"gradient descent w1: {}\".format(w_1_tf))\n",
    "print(\"Underlying w1: {}\".format(2))"
   ]
  },
  {
   "cell_type": "code",
   "execution_count": 10,
   "metadata": {
    "collapsed": false
   },
   "outputs": [
    {
     "data": {
      "image/png": "[encoded data removed]",
      "text/plain": [
       "<matplotlib.figure.Figure at 0x1184e75c0>"
      ]
     },
     "metadata": {},
     "output_type": "display_data"
    }
   ],
   "source": [
    "fig = plt.figure()\n",
    "ax_1 = fig.add_subplot(1, 1, 1)\n",
    "ax_1.plot(x_vals, y_noisy_vals, 'x')\n",
    "ax_1.set_xticks(x_vals)\n",
    "ax_1.plot(x_vals, w_1_tf * x_vals + w_0_tf, label='With intercept')\n",
    "plt.show()"
   ]
  },
  {
   "cell_type": "markdown",
   "metadata": {},
   "source": [
    "Great! That looks like a pretty good fit to the data. Now we're going to extend the principles we've covered so far to a real-world example. "
   ]
  },
  {
   "cell_type": "markdown",
   "metadata": {},
   "source": [
    "### 3.3 - Features\n",
    "\n",
    "If we wanted to fit a quadratic function of the form:\n",
    "\n",
    "$$y = ax + bx^2 + c$$\n",
    "\n",
    "Or, in our notation:\n",
    "\n",
    "$$y = w_0 + w_1 x + w_2x^2$$\n",
    "\n",
    "We can still use linear regression. \n",
    "\n",
    "Now, you may be confused as to our we are using _linear_ regression for a function which is non-linear. This confused me too, initially, but we must remember that although the function is non-linear in $x$ it is linear in the parameters $w$, which is what we are fitting.\n",
    "\n",
    "We can use exactly the same principles as before, as shown below:"
   ]
  },
  {
   "cell_type": "code",
   "execution_count": 11,
   "metadata": {
    "collapsed": false
   },
   "outputs": [
    {
     "name": "stdout",
     "output_type": "stream",
     "text": [
      "gradient descent w0: 2.357593536376953\n",
      "Underlying w0: 20\n",
      "gradient descent w1: 1.540489673614502\n",
      "Underlying w1: 2\n",
      "gradient descent w2: 0.7870352864265442\n",
      "Underlying w2: 3\n"
     ]
    },
    {
     "data": {
      "image/png": "[encoded data removed]",
      "text/plain": [
       "<matplotlib.figure.Figure at 0x118dbee48>"
      ]
     },
     "metadata": {},
     "output_type": "display_data"
    }
   ],
   "source": [
    "x_vals = np.arange(20).reshape(-1, 1)\n",
    "y_vals = 20 - 3 * x_vals + 1 * x_vals ** 2\n",
    "y_noisy_vals = np.random.normal(y_vals, scale=3.0)\n",
    "\n",
    "tf.reset_default_graph()\n",
    "w_0 = tf.get_variable('w_0', dtype=tf.float32, initializer=0.0)\n",
    "w_1 = tf.get_variable('w_1', shape=[], dtype=tf.float32, initializer=tf.contrib.layers.xavier_initializer())\n",
    "w_2 = tf.get_variable('w_2', shape=[], dtype=tf.float32, initializer=tf.contrib.layers.xavier_initializer())\n",
    "\n",
    "x = tf.placeholder(dtype=tf.float32, shape = [None, 1], name='x')\n",
    "y = tf.placeholder(dtype=tf.float32, shape = [None, 1], name='y')\n",
    "\n",
    "y_pred = w_0 + w_1 * x + w_2 * x ** 2\n",
    "\n",
    "n = x_vals.shape[0]\n",
    "l2_loss = tf.reduce_sum(tf.pow(y_pred - y, 2))/(2 * n)\n",
    "\n",
    "# The learning rate is quite small for this example\n",
    "# Try it with a larger value e.g. 1e-3 and see what happens\n",
    "optimizer = tf.train.AdamOptimizer(1e-2).minimize(l2_loss)\n",
    "init = tf.global_variables_initializer()\n",
    "\n",
    "with tf.Session() as sess:\n",
    "    sess.run(init)\n",
    "    loss_vals = []\n",
    "    num_steps = 3000\n",
    "    # We will run the optimiser for 100 steps\n",
    "    for step in range(0, num_steps):\n",
    "        sess.run(optimizer, feed_dict={x: x_vals, y: y_noisy_vals})\n",
    "        loss_vals.append(sess.run(l2_loss, feed_dict={x: x_vals, y: y_noisy_vals}))\n",
    "        w_0_tf = sess.run(w_0)\n",
    "        w_1_tf = sess.run(w_1)\n",
    "        w_2_tf = sess.run(w_2)\n",
    "        \n",
    "        \n",
    "print(\"gradient descent w0: {}\".format(w_0_tf))\n",
    "print(\"Underlying w0: {}\".format(20))\n",
    "print(\"gradient descent w1: {}\".format(w_1_tf))\n",
    "print(\"Underlying w1: {}\".format(2))\n",
    "print(\"gradient descent w2: {}\".format(w_2_tf))\n",
    "print(\"Underlying w2: {}\".format(3))\n",
    "\n",
    "# It's often a good idea to visualise the loss\n",
    "fig = plt.figure()\n",
    "ax_1 = fig.add_subplot(1, 1, 1)\n",
    "ax_1.plot(range(1, num_steps), loss_vals[1:])\n",
    "plt.show()"
   ]
  },
  {
   "cell_type": "markdown",
   "metadata": {},
   "source": [
    "Hmm, the weights look quite far away from the underlying ones, but the loss does appear to be well behaved. Let's have a look:"
   ]
  },
  {
   "cell_type": "code",
   "execution_count": 12,
   "metadata": {
    "collapsed": false
   },
   "outputs": [
    {
     "data": {
      "image/png": "[encoded data removed]",
      "text/plain": [
       "<matplotlib.figure.Figure at 0x118bbe828>"
      ]
     },
     "metadata": {},
     "output_type": "display_data"
    }
   ],
   "source": [
    "fig = plt.figure()\n",
    "ax_1 = fig.add_subplot(1, 1, 1)\n",
    "ax_1.plot(x_vals, y_noisy_vals, 'x')\n",
    "ax_1.set_xticks(x_vals)\n",
    "ax_1.plot(x_vals, w_0_tf + w_1_tf * x_vals + w_2_tf * x_vals ** 2, label='With intercept')\n",
    "plt.show()"
   ]
  },
  {
   "cell_type": "markdown",
   "metadata": {},
   "source": [
    "We actually have a fairly good fit to the data, although it appeared our weights were quite far away. This is one of the issues with polynomials, in that they are very sensitive to small changes in the parameters.\n",
    "\n",
    "What we have done here is modelled a regression problem with a new value: $x^2$. So far, we have just been calling these the x's, but now we are going to refer to them as **features**. If we recall our equation from before:\n",
    "\n",
    "$$y = w_0 + w_1 x + w_2x^2$$\n",
    "\n",
    "We can see that it is also possible to write it as:\n",
    "\n",
    "$$y = w_0x^0 + w_1 x^1 + w_2x^2$$\n",
    "\n",
    "Not only that, but we can go further. Suppose we define a weight vector $\\mathbf{w} = [w_0\\ w_1\\ w_2]^T$, and a feature vector $\\mathbf{x} = [x^0\\ x^1\\ x^2]^T$, then we can re-write the equation as:\n",
    "\n",
    "$$y = \\mathbf{w}^T \\mathbf{x}$$\n",
    "\n",
    "And note that our $\\mathbf{x}$ vector will always have an initial value of 1, to represent the bias term, so it will take the form: $\\mathbf{x} = [1\\ x^1\\ x^2]^T$\n",
    "\n",
    "We've been slightly sneaky so far in the way in which we have presented our x and y values, but we did so for simplicity. Now we are going to slightly redefine those terms.  \n",
    "\n",
    "For our functions we have a direct mapping of $x \\rightarrow y$, that is, we can supply an $x$ value, and obtain a $y$ value from our equation. These can be considered as data pairs: $\\{x^{(n)}, y^{(n)}\\}_{n=1}^{N}$, where we have $N$ examples. Note that the superscript term is _not_ a power term, but rather the i-th example. ML is notorious for poorly defined notation, so we will try and keep ours as clear as possible.\n",
    "\n",
    "In our quadratic equation from before, this means that each feature vector is now defined as: \n",
    "\n",
    "$$\\mathbf{x}^{(n)} = [1\\ x^{(n)}\\ x^{(n)^2}]^T$$\n",
    "\n",
    "We can store these in a **feature matrix**, $X$, such that:\n",
    "\n",
    "$$X = \\begin{bmatrix}\\mathbf{x}^{(1)^T}\\\\\n",
    "\\mathbf{x}^{(2)^T}\\\\\n",
    "\\dots\\\\\n",
    "\\mathbf{x}^{(N)^T}\\\\\n",
    "\\end{bmatrix}$$\n",
    "\n",
    "Now we can rewrite our function entirely in matrix notation:\n",
    "\n",
    "$$\\mathbf{y}_{pred} = X\\mathbf{w}$$\n",
    "\n",
    "Understanding the linear algebra representation of the problem makes the solutions far more computationally efficient. Fortunately TF overloads the numerical operators for us, so we have been using the linear algebra, or _vectorised_ implementatations without realising it.\n",
    "\n",
    "Ok. All of this is all well and good, but you might be thinking: \"I still don't really _get_ features. Why are we squaring terms, what's going on?\". \n",
    "\n",
    "We have covered a lot of material, and introduced some notation, so it's worth reviewing that before continuing and making sure you really understand it.\n",
    "\n",
    "---"
   ]
  },
  {
   "cell_type": "markdown",
   "metadata": {},
   "source": [
    "### 3.5 - More features (and their use)\n",
    "\n",
    "Features are a measure of the representational power of our function. That is, how complex a function we are able to create. In ML, we are often faced with balancing a good fit to the data, versus predictive power. How we handle the features is key to this balancing act. Let us demonstrate with an example. \n",
    "\n",
    "Suppose we are given the following data:"
   ]
  },
  {
   "cell_type": "code",
   "execution_count": 2,
   "metadata": {
    "collapsed": false
   },
   "outputs": [
    {
     "data": {
      "image/png": "[encoded data removed]",
      "text/plain": [
       "<matplotlib.figure.Figure at 0x10ca26048>"
      ]
     },
     "metadata": {},
     "output_type": "display_data"
    }
   ],
   "source": [
    "import raw_data\n",
    "\n",
    "y_vals = raw_data.example_data_10\n",
    "x_vals = np.arange(y_vals.shape[0]).reshape(-1, 1)\n",
    "fig = plt.figure()\n",
    "ax_1 = fig.add_subplot(1, 1, 1)\n",
    "ax_1.plot(x_vals, y_vals, 'x')\n",
    "ax_1.set_xticks(x_vals)\n",
    "ax_1.set_ylim([0, 25])\n",
    "plt.show()"
   ]
  },
  {
   "cell_type": "markdown",
   "metadata": {},
   "source": [
    "It's not clear what the underlying function is, but let's try with a straight line:"
   ]
  },
  {
   "cell_type": "code",
   "execution_count": 19,
   "metadata": {
    "collapsed": false
   },
   "outputs": [
    {
     "name": "stdout",
     "output_type": "stream",
     "text": [
      "[[ 2.66909017  2.66909017  2.66909017  1.65972796]]\n",
      "Loss using a straight line: 285.2703878923726\n"
     ]
    }
   ],
   "source": [
    "l2_loss = lambda y_pred, y, num_train: np.sum((y_pred - y) ** 2)/(2 * num_train)\n",
    "\n",
    "# We'll add the 1 term to each feature vector:\n",
    "x_vals = np.hstack((np.ones((x_vals.shape[0], 1)), x_vals))\n",
    "\n",
    "line = LinearRegression(fit_intercept=False)\n",
    "line.fit(x_vals, y_vals)\n",
    "\n",
    "print(line.coef_)\n",
    "\n",
    "y_pred = w_0 + w_1 * x_vals\n",
    "num_train = x_vals.shape[0]\n",
    "\n",
    "print(\"Loss using a straight line: {}\".format(l2_loss(y_pred, y_vals, num_train)))"
   ]
  },
  {
   "cell_type": "markdown",
   "metadata": {},
   "source": [
    "Ok, not bad. Can we do better? Let's try adding in a new feature, a squared term."
   ]
  },
  {
   "cell_type": "code",
   "execution_count": 11,
   "metadata": {
    "collapsed": false
   },
   "outputs": [
    {
     "name": "stdout",
     "output_type": "stream",
     "text": [
      "[[ 0  0]\n",
      " [ 1  1]\n",
      " [ 2  4]\n",
      " [ 3  9]\n",
      " [ 4 16]\n",
      " [ 5 25]\n",
      " [ 6 36]\n",
      " [ 7 49]\n",
      " [ 8 64]\n",
      " [ 9 81]]\n"
     ]
    }
   ],
   "source": [
    "x_with_squared = np.hstack((x_vals, x_vals**2))\n",
    "print(x_with_squared)"
   ]
  },
  {
   "cell_type": "markdown",
   "metadata": {},
   "source": [
    "### 3.4 - Into the second dimension\n",
    "\n"
   ]
  },
  {
   "cell_type": "code",
   "execution_count": null,
   "metadata": {
    "collapsed": true
   },
   "outputs": [],
   "source": []
  },
  {
   "cell_type": "code",
   "execution_count": null,
   "metadata": {
    "collapsed": true
   },
   "outputs": [],
   "source": []
  }
 ],
 "metadata": {
  "kernelspec": {
   "display_name": "Python [conda env:tf_env]",
   "language": "python",
   "name": "conda-env-tf_env-py"
  },
  "language_info": {
   "codemirror_mode": {
    "name": "ipython",
    "version": 3
   },
   "file_extension": ".py",
   "mimetype": "text/x-python",
   "name": "python",
   "nbconvert_exporter": "python",
   "pygments_lexer": "ipython3",
   "version": "3.6.2"
  }
 },
 "nbformat": 4,
 "nbformat_minor": 2
}
