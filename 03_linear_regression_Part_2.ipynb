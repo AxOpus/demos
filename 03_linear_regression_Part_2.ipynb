{
 "cells": [
  {
   "cell_type": "code",
   "execution_count": 35,
   "metadata": {
    "collapsed": false
   },
   "outputs": [],
   "source": [
    "import tensorflow as tf\n",
    "import sys\n",
    "import numpy as np\n",
    "import matplotlib.pyplot as plt\n",
    "from mpl_toolkits.mplot3d import Axes3D\n",
    "assert sys.version_info.major == 3\n",
    "np.random.seed(1)\n",
    "from sklearn.linear_model import LinearRegression"
   ]
  },
  {
   "cell_type": "markdown",
   "metadata": {},
   "source": [
    "# 3 - Linear Regression Revisited\n",
    "\n",
    "Recall from notebook 1 that we were trying to fit a line to a series of points. To do so we measured a loss function, which tells us how 'good' a fit to the points we have. We minimised this loss function using a process called gradient descent.\n",
    "\n",
    "We're now going to expand on this example, and introduce solving it with TensorFlow."
   ]
  },
  {
   "cell_type": "markdown",
   "metadata": {},
   "source": [
    "### 3.1 - Bias\n",
    "\n",
    "If you recall from school, you will have seen that the equation of a line is:\n",
    "\n",
    "$$y = ax + b$$\n",
    "\n",
    "In this equation $b$ is called the intercept. This is an extremely important term, because by including it, our line no longer has to pass through the origin. Now, we are able to represent any line on the $xy$ plane. This is shown below:"
   ]
  },
  {
   "cell_type": "code",
   "execution_count": 36,
   "metadata": {
    "collapsed": false
   },
   "outputs": [
    {
     "data": {
      "image/png": "[encoded data removed]",
      "text/plain": [
       "<matplotlib.figure.Figure at 0x118acd208>"
      ]
     },
     "metadata": {},
     "output_type": "display_data"
    }
   ],
   "source": [
    "x_vals = np.arange(20).reshape(-1, 1)\n",
    "y_vals = 2 * x_vals + 20\n",
    "y_noisy_vals = np.random.normal(y_vals, scale=1.0)\n",
    "\n",
    "\n",
    "## Don't worry about this code\n",
    "## it uses a Python library (sklearn)\n",
    "## which we havent't covered\n",
    "fit_bias = LinearRegression()\n",
    "fit_no_bias = LinearRegression(fit_intercept=False)\n",
    "\n",
    "fit_bias.fit(x_vals, y_noisy_vals)\n",
    "fit_no_bias.fit(x_vals, y_noisy_vals)\n",
    "\n",
    "fig_1 = plt.figure()\n",
    "ax_1 = fig_1.add_subplot(1, 1, 1)\n",
    "ax_1.plot(x_vals, y_noisy_vals, 'x')\n",
    "ax_1.set_xticks(x_vals)\n",
    "bias, = ax_1.plot(x_vals, fit_bias.coef_ * x_vals + fit_bias.intercept_, label='With intercept')\n",
    "no_bias, = ax_1.plot(x_vals, fit_no_bias.coef_ * x_vals + fit_no_bias.intercept_, label='Without intercept')\n",
    "plt.legend(handles=[bias, no_bias])\n",
    "plt.show()"
   ]
  },
  {
   "cell_type": "markdown",
   "metadata": {},
   "source": [
    "We can see what the intercept term does in this example, it allows the line to 'meet' the data, rather than being constrained to the origin.\n",
    "\n",
    "In ML it is more common to refer to the intercept as the **bias**. We will redefine the equation in our notation:\n",
    "\n",
    "$$y = w_0 + w_1 x$$"
   ]
  },
  {
   "cell_type": "markdown",
   "metadata": {},
   "source": [
    "### 3.2 - Fitting with TensorFlow\n",
    "\n",
    "We will now fit this model using TensorFlow.\n",
    "\n",
    "First we create our variables, which are the weights of our regression model, and our placeholders:"
   ]
  },
  {
   "cell_type": "code",
   "execution_count": 37,
   "metadata": {
    "collapsed": false
   },
   "outputs": [],
   "source": [
    "tf.reset_default_graph()\n",
    "w_0 = tf.get_variable('w_0', dtype=tf.float32, initializer=0.0)\n",
    "w_1 = tf.get_variable('w_1', shape=[], dtype=tf.float32, initializer=tf.contrib.layers.xavier_initializer())\n",
    "\n",
    "x = tf.placeholder(dtype=tf.float32, shape = [None, 1], name='x')\n",
    "y = tf.placeholder(dtype=tf.float32, shape = [None, 1], name='y')"
   ]
  },
  {
   "cell_type": "markdown",
   "metadata": {},
   "source": [
    "It is acceptable to initialise the bias term as 0, for reasons we won't go into yet.\n",
    "\n",
    "You may be wondering what is going on with the x and y placeholders' shapes. It is often the case that we may not know how many training examples we will have prior to feeding in the data. In this instance, we can set the shape to the best of our knowledge and let TF work it out at runtime.\n",
    "\n",
    "We then define the operation to initialise our variables:"
   ]
  },
  {
   "cell_type": "code",
   "execution_count": 38,
   "metadata": {
    "collapsed": true
   },
   "outputs": [],
   "source": [
    "init = tf.global_variables_initializer()"
   ]
  },
  {
   "cell_type": "markdown",
   "metadata": {},
   "source": [
    "Now we define the function which will make the predictions:"
   ]
  },
  {
   "cell_type": "code",
   "execution_count": 39,
   "metadata": {
    "collapsed": true
   },
   "outputs": [],
   "source": [
    "y_pred = w_0 + w_1 * x"
   ]
  },
  {
   "cell_type": "markdown",
   "metadata": {},
   "source": [
    "And the loss function:"
   ]
  },
  {
   "cell_type": "code",
   "execution_count": 40,
   "metadata": {
    "collapsed": true
   },
   "outputs": [],
   "source": [
    "n = x_vals.shape[0]\n",
    "l2_loss = tf.reduce_sum(tf.pow(y_pred - y, 2))/(2 * n)"
   ]
  },
  {
   "cell_type": "markdown",
   "metadata": {},
   "source": [
    "Now, in the previous notebook, we defined our gradient descent operation manually, and we calculated the gradient analytically. In TF we define an _optimiser_, which will do this for us:\n",
    "\n",
    "```optimizer = tf.train.GradientDescentOptimizer(learning_rate).minimize(cost)```\n",
    "\n",
    "We can see that we are using a gradient descent optimiser, where we can define the learning rate. It is a class, and we can call the ```minimize``` method of it, by supplying the function we want to minimise.\n",
    "\n",
    "We will define our optimiser as follows:"
   ]
  },
  {
   "cell_type": "code",
   "execution_count": 41,
   "metadata": {
    "collapsed": true
   },
   "outputs": [],
   "source": [
    "optimizer = tf.train.GradientDescentOptimizer(0.01).minimize(l2_loss)"
   ]
  },
  {
   "cell_type": "markdown",
   "metadata": {},
   "source": [
    "Now we can construct and run our graph:"
   ]
  },
  {
   "cell_type": "code",
   "execution_count": 42,
   "metadata": {
    "collapsed": false
   },
   "outputs": [
    {
     "name": "stdout",
     "output_type": "stream",
     "text": [
      "gradient descent w0: 18.595834732055664\n",
      "Underlying w0: 20\n",
      "gradient descent w1: 2.0957436561584473\n",
      "Underlying w1: 2\n"
     ]
    }
   ],
   "source": [
    "with tf.Session() as sess:\n",
    "    sess.run(init)\n",
    "    \n",
    "    # We will run the optimiser for 1000 steps\n",
    "    for step in range(0, 1000):\n",
    "        sess.run(optimizer, feed_dict={x: x_vals, y: y_noisy_vals})\n",
    "#         print(\"w_0: {}\".format(sess.run(w_0)))\n",
    "#         print(\"w_1: {}\".format(sess.run(w_1)))\n",
    "#         print(sess.run(l2_loss, feed_dict={x: x_vals, y: y_noisy_vals}))\n",
    "        w_0_tf = sess.run(w_0)\n",
    "        w_1_tf = sess.run(w_1)\n",
    "        \n",
    "print(\"gradient descent w0: {}\".format(w_0_tf))\n",
    "print(\"Underlying w0: {}\".format(20))\n",
    "print(\"gradient descent w1: {}\".format(w_1_tf))\n",
    "print(\"Underlying w1: {}\".format(2))"
   ]
  },
  {
   "cell_type": "code",
   "execution_count": 43,
   "metadata": {
    "collapsed": false
   },
   "outputs": [
    {
     "data": {
      "image/png": "[encoded data removed]",
      "text/plain": [
       "<matplotlib.figure.Figure at 0x11ac74780>"
      ]
     },
     "metadata": {},
     "output_type": "display_data"
    }
   ],
   "source": [
    "fig = plt.figure()\n",
    "ax_1 = fig.add_subplot(1, 1, 1)\n",
    "ax_1.plot(x_vals, y_noisy_vals, 'x')\n",
    "ax_1.set_xticks(x_vals)\n",
    "ax_1.plot(x_vals, w_1_tf * x_vals + w_0_tf, label='With intercept')\n",
    "plt.show()"
   ]
  },
  {
   "cell_type": "markdown",
   "metadata": {},
   "source": [
    "Great! That looks like a pretty good fit to the data."
   ]
  },
  {
   "cell_type": "markdown",
   "metadata": {},
   "source": [
    "### 3.3 - Features\n",
    "\n",
    "If we wanted to fit a quadratic function of the form:\n",
    "\n",
    "$$y = ax + bx^2 + c$$\n",
    "\n",
    "Or, in our notation:\n",
    "\n",
    "$$y = w_0 + w_1 x + w_2x^2$$\n",
    "\n",
    "We can still use linear regression. \n",
    "\n",
    "Now, you may be confused as to our we are using _linear_ regression for a function which is non-linear. This confused me too, initially, but we must remember that although the function is non-linear in $x$ it is linear in the parameters $w$, which is what we are fitting.\n",
    "\n",
    "We can use exactly the same principles as before, as shown below:"
   ]
  },
  {
   "cell_type": "code",
   "execution_count": 44,
   "metadata": {
    "collapsed": false
   },
   "outputs": [
    {
     "name": "stdout",
     "output_type": "stream",
     "text": [
      "gradient descent w0: 10.7803373336792\n",
      "Underlying w0: 20\n",
      "gradient descent w1: -1.0643821954727173\n",
      "Underlying w1: 2\n",
      "gradient descent w2: 0.9166293144226074\n",
      "Underlying w2: 3\n"
     ]
    },
    {
     "data": {
      "image/png": "[encoded data removed]",
      "text/plain": [
       "<matplotlib.figure.Figure at 0x11a6985f8>"
      ]
     },
     "metadata": {},
     "output_type": "display_data"
    }
   ],
   "source": [
    "x_vals = np.arange(20).reshape(-1, 1)\n",
    "y_vals = 20 - 3 * x_vals + 1 * x_vals ** 2\n",
    "y_noisy_vals = np.random.normal(y_vals, scale=3.0)\n",
    "\n",
    "tf.reset_default_graph()\n",
    "w_0 = tf.get_variable('w_0', dtype=tf.float32, initializer=0.0)\n",
    "w_1 = tf.get_variable('w_1', shape=[], dtype=tf.float32, initializer=tf.contrib.layers.xavier_initializer())\n",
    "w_2 = tf.get_variable('w_2', shape=[], dtype=tf.float32, initializer=tf.contrib.layers.xavier_initializer())\n",
    "\n",
    "x = tf.placeholder(dtype=tf.float32, shape = [None, 1], name='x')\n",
    "y = tf.placeholder(dtype=tf.float32, shape = [None, 1], name='y')\n",
    "\n",
    "y_pred = w_0 + w_1 * x + w_2 * x ** 2\n",
    "\n",
    "n = x_vals.shape[0]\n",
    "l2_loss = tf.reduce_sum(tf.pow(y_pred - y, 2))/(2 * n)\n",
    "\n",
    "# The learning rate is quite small for this example\n",
    "# Try it with a larger value e.g. 1e-3 and see what happens\n",
    "optimizer = tf.train.AdamOptimizer(1e-2).minimize(l2_loss)\n",
    "init = tf.global_variables_initializer()\n",
    "\n",
    "with tf.Session() as sess:\n",
    "    sess.run(init)\n",
    "    loss_vals = []\n",
    "    num_steps = 3000\n",
    "    # We will run the optimiser for 100 steps\n",
    "    for step in range(0, num_steps):\n",
    "        sess.run(optimizer, feed_dict={x: x_vals, y: y_noisy_vals})\n",
    "        loss_vals.append(sess.run(l2_loss, feed_dict={x: x_vals, y: y_noisy_vals}))\n",
    "        w_0_tf = sess.run(w_0)\n",
    "        w_1_tf = sess.run(w_1)\n",
    "        w_2_tf = sess.run(w_2)\n",
    "        \n",
    "        \n",
    "print(\"gradient descent w0: {}\".format(w_0_tf))\n",
    "print(\"Underlying w0: {}\".format(20))\n",
    "print(\"gradient descent w1: {}\".format(w_1_tf))\n",
    "print(\"Underlying w1: {}\".format(2))\n",
    "print(\"gradient descent w2: {}\".format(w_2_tf))\n",
    "print(\"Underlying w2: {}\".format(3))\n",
    "\n",
    "# It's often a good idea to visualise the loss\n",
    "fig = plt.figure()\n",
    "ax_1 = fig.add_subplot(1, 1, 1)\n",
    "ax_1.plot(range(1, num_steps), loss_vals[1:])\n",
    "plt.show()"
   ]
  },
  {
   "cell_type": "markdown",
   "metadata": {},
   "source": [
    "Hmm, the weights look quite far away from the underlying ones, but the loss does appear to be well behaved. Let's have a look:"
   ]
  },
  {
   "cell_type": "code",
   "execution_count": 45,
   "metadata": {
    "collapsed": false
   },
   "outputs": [
    {
     "data": {
      "image/png": "[encoded data removed]",
      "text/plain": [
       "<matplotlib.figure.Figure at 0x11a678550>"
      ]
     },
     "metadata": {},
     "output_type": "display_data"
    }
   ],
   "source": [
    "fig = plt.figure()\n",
    "ax_1 = fig.add_subplot(1, 1, 1)\n",
    "ax_1.plot(x_vals, y_noisy_vals, 'x')\n",
    "ax_1.set_xticks(x_vals)\n",
    "ax_1.plot(x_vals, w_0_tf + w_1_tf * x_vals + w_2_tf * x_vals ** 2, label='With intercept')\n",
    "plt.show()"
   ]
  },
  {
   "cell_type": "markdown",
   "metadata": {},
   "source": [
    "We actually have a fairly good fit to the data, although it appeared our weights were quite far away. This is one of the issues with polynomials, in that they are very sensitive to small changes in the parameters.\n",
    "\n",
    "What we have done here is modelled a regression problem with a new value: $x^2$. So far, we have just been calling these the x's, but now we are going to refer to them as **features**. If we recall our equation from before:\n",
    "\n",
    "$$y = w_0 + w_1 x + w_2x^2$$\n",
    "\n",
    "We can see that it is also possible to write it as:\n",
    "\n",
    "$$y = w_0x^0 + w_1 x^1 + w_2x^2$$\n",
    "\n",
    "Not only that, but we can go further. Suppose we define a weight vector $\\mathbf{w} = [w_0\\ w_1\\ w_2]^T$, and a feature vector $\\mathbf{x} = [x^0\\ x^1\\ x^2]^T$, then we can re-write the equation as:\n",
    "\n",
    "$$y = \\mathbf{w}^T \\mathbf{x}$$\n",
    "\n",
    "And note that our $\\mathbf{x}$ vector will always have an initial value of 1, to represent the bias term, so it will take the form: $\\mathbf{x} = [1\\ x^1\\ x^2]^T$\n",
    "\n",
    "We've been slightly sneaky so far in the way in which we have presented our x and y values, but we did so for simplicity. Now we are going to slightly redefine those terms.  \n",
    "\n",
    "For our functions we have a direct mapping of $x \\rightarrow y$, that is, we can supply an $x$ value, and obtain a $y$ value from our equation. These can be considered as data pairs: $\\{x^{(n)}, y^{(n)}\\}_{n=1}^{N}$, where we have $N$ examples. Note that the superscript term is _not_ a power term, but rather the i-th example. ML is notorious for poorly defined notation, so we will try and keep ours as clear as possible.\n",
    "\n",
    "In our quadratic equation from before, this means that each feature vector is now defined as: \n",
    "\n",
    "$$\\mathbf{x}^{(n)} = [1\\ x^{(n)}\\ x^{(n)^2}]^T$$\n",
    "\n",
    "We can store these in a **feature matrix**, $X$, such that:\n",
    "\n",
    "$$X = \\begin{bmatrix}\\mathbf{x}^{(1)^T}\\\\\n",
    "\\mathbf{x}^{(2)^T}\\\\\n",
    "\\dots\\\\\n",
    "\\mathbf{x}^{(N)^T}\\\\\n",
    "\\end{bmatrix}$$\n",
    "\n",
    "Now we can rewrite our function entirely in matrix notation:\n",
    "\n",
    "$$\\mathbf{y}_{pred} = X\\mathbf{w}$$\n",
    "\n",
    "Understanding the linear algebra representation of the problem makes the solutions far more computationally efficient. Fortunately TF overloads the numerical operators for us, so we have been using the linear algebra, or _vectorised_ implementatations without realising it.\n",
    "\n",
    "Ok. All of this is all well and good, but you might be thinking: \"I still don't really _get_ features. Why are we squaring terms, what's going on?\". \n",
    "\n",
    "We have covered a lot of material, and introduced some notation, so it's worth reviewing that before continuing and making sure you really understand it.\n",
    "\n",
    "---"
   ]
  },
  {
   "cell_type": "markdown",
   "metadata": {},
   "source": [
    "### 3.5 - Overfitting\n",
    "\n",
    "Features are a measure of the representational power of our function. That is, how complex a function we are able to create. In ML, we are often faced with balancing a good fit to the data, versus predictive power. How we handle the features is key to this balancing act. Let us demonstrate with an example. \n",
    "\n",
    "Suppose we are given the following data:"
   ]
  },
  {
   "cell_type": "code",
   "execution_count": 115,
   "metadata": {
    "collapsed": false
   },
   "outputs": [
    {
     "data": {
      "image/png": "[encoded data removed]",
      "text/plain": [
       "<matplotlib.figure.Figure at 0x11a6c70b8>"
      ]
     },
     "metadata": {},
     "output_type": "display_data"
    }
   ],
   "source": [
    "import raw_data\n",
    "\n",
    "y_vals = raw_data.example_data_10\n",
    "x_orig = np.arange(y_vals.shape[0]).reshape(-1, 1)\n",
    "fig = plt.figure()\n",
    "ax_1 = fig.add_subplot(1, 1, 1)\n",
    "ax_1.plot(x_orig, y_vals, 'x')\n",
    "ax_1.set_xticks(x_orig)\n",
    "ax_1.set_ylim([0, 25])\n",
    "plt.show()"
   ]
  },
  {
   "cell_type": "markdown",
   "metadata": {},
   "source": [
    "It's not clear what the underlying function is, but let's try with a straight line:"
   ]
  },
  {
   "cell_type": "code",
   "execution_count": 132,
   "metadata": {
    "collapsed": false
   },
   "outputs": [
    {
     "name": "stdout",
     "output_type": "stream",
     "text": [
      "[[ 1.  0.]\n",
      " [ 1.  1.]\n",
      " [ 1.  2.]\n",
      " [ 1.  3.]\n",
      " [ 1.  4.]\n",
      " [ 1.  5.]\n",
      " [ 1.  6.]\n",
      " [ 1.  7.]\n",
      " [ 1.  8.]\n",
      " [ 1.  9.]]\n"
     ]
    }
   ],
   "source": [
    "# We'll add the 1 term to each feature vector:\n",
    "x_with_bias = np.hstack((np.ones((x_orig.shape[0], 1)), x_orig))\n",
    "print(x_with_bias)"
   ]
  },
  {
   "cell_type": "code",
   "execution_count": 133,
   "metadata": {
    "collapsed": true
   },
   "outputs": [],
   "source": [
    "l2_loss = lambda y_pred, y, num_train: np.sum((y_pred - y) ** 2)/(2 * num_train)"
   ]
  },
  {
   "cell_type": "code",
   "execution_count": 227,
   "metadata": {
    "collapsed": false
   },
   "outputs": [
    {
     "name": "stdout",
     "output_type": "stream",
     "text": [
      "Loss using a straight line: 1.3928710271180242\n"
     ]
    }
   ],
   "source": [
    "line = LinearRegression(fit_intercept=False)\n",
    "line.fit(x_vals, y_vals)\n",
    "\n",
    "straight_line_coeffs = line.coef_.T\n",
    "y_predicted_1 = x_vals.dot(straight_line_coeffs)\n",
    "\n",
    "#y_predicted = coeffs.\n",
    "num_train = x_vals.shape[0]\n",
    "\n",
    "straight_line_loss = l2_loss(y_predicted_1, y_vals, num_train)\n",
    "print(\"Loss using a straight line: {}\".format(straight_line_loss))"
   ]
  },
  {
   "cell_type": "markdown",
   "metadata": {},
   "source": [
    "Ok, not bad. Can we do better? Let's try adding in a new feature, a squared term."
   ]
  },
  {
   "cell_type": "code",
   "execution_count": 142,
   "metadata": {
    "collapsed": false
   },
   "outputs": [
    {
     "name": "stdout",
     "output_type": "stream",
     "text": [
      "[[  1.   0.   0.]\n",
      " [  1.   1.   1.]\n",
      " [  1.   2.   4.]\n",
      " [  1.   3.   9.]\n",
      " [  1.   4.  16.]\n",
      " [  1.   5.  25.]\n",
      " [  1.   6.  36.]\n",
      " [  1.   7.  49.]\n",
      " [  1.   8.  64.]\n",
      " [  1.   9.  81.]]\n"
     ]
    }
   ],
   "source": [
    "x_with_squared = np.hstack((x_with_bias, x_orig**2))\n",
    "print(x_with_squared)"
   ]
  },
  {
   "cell_type": "markdown",
   "metadata": {},
   "source": [
    "And we'll fit this quadratic function to the data:"
   ]
  },
  {
   "cell_type": "code",
   "execution_count": 143,
   "metadata": {
    "collapsed": false
   },
   "outputs": [
    {
     "name": "stdout",
     "output_type": "stream",
     "text": [
      "Loss using a quadratic function: 1.3927162009918461\n"
     ]
    }
   ],
   "source": [
    "line = LinearRegression(fit_intercept=False)\n",
    "line.fit(x_with_squared, y_vals)\n",
    "\n",
    "coeffs = line.coef_.T\n",
    "y_predicted_2 = x_with_squared.dot(coeffs)\n",
    "\n",
    "#y_predicted = coeffs.\n",
    "num_train = x_with_squared.shape[0]\n",
    "\n",
    "print(\"Loss using a quadratic function: {}\".format(l2_loss(y_predicted, y_vals, num_train)))"
   ]
  },
  {
   "cell_type": "markdown",
   "metadata": {},
   "source": [
    "Ok, great! Our loss is now smaller than with just using the straight line. What if we went to an even higher power? What if we went all the way up to a ninth-order polynomial?"
   ]
  },
  {
   "cell_type": "code",
   "execution_count": 181,
   "metadata": {
    "collapsed": false
   },
   "outputs": [
    {
     "name": "stdout",
     "output_type": "stream",
     "text": [
      "1.39271620099\n",
      "(3, 1)\n",
      "1.29751111624\n",
      "(4, 1)\n",
      "1.16124145873\n",
      "(5, 1)\n",
      "0.873975807616\n",
      "(6, 1)\n",
      "0.705841827952\n",
      "(7, 1)\n",
      "0.593841128791\n",
      "(8, 1)\n",
      "0.340075993238\n",
      "(9, 1)\n",
      "1.59239480505e-12\n",
      "(10, 1)\n"
     ]
    }
   ],
   "source": [
    "x_matrix = x_with_bias\n",
    "l2_loss_polynomial = [straight_line_loss]\n",
    "best_coeffs = None\n",
    "best_loss = float('inf')\n",
    "for power in range(2, 10):\n",
    "    \n",
    "    # Create the feature matrix\n",
    "    # stacking the extra powers \n",
    "    x_matrix = np.hstack((x_matrix, x_orig**power))\n",
    "    \n",
    "    line = LinearRegression(fit_intercept=False)\n",
    "    line.fit(x_matrix, y_vals)\n",
    "\n",
    "    coeffs = line.coef_.T\n",
    "    y_predicted = x_matrix.dot(coeffs)\n",
    "\n",
    "    #y_predicted = coeffs.\n",
    "    num_train = x_vals.shape[0]\n",
    "\n",
    "    loss = l2_loss(y_predicted, y_vals, num_train)\n",
    "    l2_loss_polynomial.append(loss)\n",
    "    \n",
    "    print(loss)\n",
    "    print(coeffs.shape)\n",
    "    if loss < best_loss:\n",
    "        best_loss = loss\n",
    "        best_coeffs = coeffs"
   ]
  },
  {
   "cell_type": "code",
   "execution_count": 184,
   "metadata": {
    "collapsed": false
   },
   "outputs": [
    {
     "data": {
      "image/png": "[encoded data removed]",
      "text/plain": [
       "<matplotlib.figure.Figure at 0x11b3b5b00>"
      ]
     },
     "metadata": {},
     "output_type": "display_data"
    }
   ],
   "source": [
    "fig = plt.figure()\n",
    "powers = range(1, 10)\n",
    "ax_1 = fig.add_subplot(1, 1, 1)\n",
    "ax_1.plot(powers, l2_loss_polynomial)\n",
    "ax_1.set_xticks(powers)\n",
    "ax_1.set_xlabel('Polynomial order')\n",
    "ax_1.set_ylabel('L2 loss')\n",
    "plt.show()"
   ]
  },
  {
   "cell_type": "markdown",
   "metadata": {},
   "source": [
    "Brilliant! We now have a function which obtains near zero loss on the data. Let's visualise what such a beautiful function looks like. \n",
    "\n",
    "First, we will generate the x-value points to evaluate our function. We create a vector of 100 values from 0 to 10, and then we create additional polynomial features, so we end up with a matrix of values of shape $100 \\times 11$."
   ]
  },
  {
   "cell_type": "code",
   "execution_count": 188,
   "metadata": {
    "collapsed": false
   },
   "outputs": [],
   "source": [
    "x_data = np.linspace(0, 10, 100).reshape(-1, 1)\n",
    "X = np.hstack((np.ones((100, 1)), x_data))\n",
    "for i in range(2, 10):\n",
    "    X = np.hstack((X, x_data ** i))\n",
    "assert X.shape == (100, 10)"
   ]
  },
  {
   "cell_type": "markdown",
   "metadata": {},
   "source": [
    "Now we will evaluate the function at these points and plot it, with our original data overlaid:"
   ]
  },
  {
   "cell_type": "code",
   "execution_count": 198,
   "metadata": {
    "collapsed": false
   },
   "outputs": [
    {
     "data": {
      "image/png": "[encoded data removed]",
      "text/plain": [
       "<matplotlib.figure.Figure at 0x11ab637b8>"
      ]
     },
     "metadata": {},
     "output_type": "display_data"
    }
   ],
   "source": [
    "f = X.dot(best_coeffs)\n",
    "fig = plt.figure()\n",
    "ax_1 = fig.add_subplot(1, 1, 1)\n",
    "ax_1.plot(x_data, f)\n",
    "ax_1.plot(x_orig, y_vals, 'x')\n",
    "\n",
    "ax_1.set_ylim([-10, 50])\n",
    "plt.show()"
   ]
  },
  {
   "cell_type": "markdown",
   "metadata": {},
   "source": [
    "Hmm, that function _does_ fit all the points exactly, but it looks awfully wiggly. Does it look like it would be able to accurately predict new data? Let's find out."
   ]
  },
  {
   "cell_type": "code",
   "execution_count": 223,
   "metadata": {
    "collapsed": false
   },
   "outputs": [],
   "source": [
    "test_x_data = raw_data.x_test.reshape(-1, 1)\n",
    "test_y_data = raw_data.prediction_data_10.reshape(-1, 1)\n",
    "\n",
    "x_data = np.linspace(0, 12, 100).reshape(-1, 1)\n",
    "\n",
    "X = np.hstack((np.ones((x_data.shape[0], 1)), x_data))\n",
    "for i in range(2, 10):\n",
    "    X = np.hstack((X, x_data ** i))\n",
    "assert X.shape == (x_data.shape[0], 10)"
   ]
  },
  {
   "cell_type": "code",
   "execution_count": 225,
   "metadata": {
    "collapsed": false
   },
   "outputs": [
    {
     "data": {
      "image/png": "[encoded data removed]",
      "text/plain": [
       "<matplotlib.figure.Figure at 0x11a6c7e10>"
      ]
     },
     "metadata": {},
     "output_type": "display_data"
    }
   ],
   "source": [
    "f = X.dot(best_coeffs)\n",
    "fig = plt.figure()\n",
    "ax_1 = fig.add_subplot(1, 1, 1)\n",
    "ax_1.plot(x_data, f)\n",
    "ax_1.plot(x_orig, y_vals, 'x')\n",
    "ax_1.plot(test_x_data, test_y_data, 'x')\n",
    "\n",
    "ax_1.set_ylim([-10, 50])\n",
    "plt.show()"
   ]
  },
  {
   "cell_type": "markdown",
   "metadata": {},
   "source": [
    "Uhh... Let's try rescaling the y-axis:"
   ]
  },
  {
   "cell_type": "code",
   "execution_count": 226,
   "metadata": {
    "collapsed": false
   },
   "outputs": [
    {
     "data": {
      "image/png": "[encoded data removed]",
      "text/plain": [
       "<matplotlib.figure.Figure at 0x11b0b5160>"
      ]
     },
     "metadata": {},
     "output_type": "display_data"
    }
   ],
   "source": [
    "f = X.dot(best_coeffs)\n",
    "fig = plt.figure()\n",
    "ax_1 = fig.add_subplot(1, 1, 1)\n",
    "ax_1.plot(x_data, f)\n",
    "ax_1.plot(x_orig, y_vals, 'x')\n",
    "ax_1.plot(test_x_data, test_y_data, 'x')\n",
    "\n",
    "ax_1.set_ylim([-10000, 10000])\n",
    "plt.show()"
   ]
  },
  {
   "cell_type": "markdown",
   "metadata": {},
   "source": [
    "Wow, that's pretty poor. If we were trying to predict those green values, we would be miles away. In contrast, here is the fit of the straight line:"
   ]
  },
  {
   "cell_type": "code",
   "execution_count": 237,
   "metadata": {
    "collapsed": false
   },
   "outputs": [
    {
     "data": {
      "image/png": "[encoded data removed]",
      "text/plain": [
       "<matplotlib.figure.Figure at 0x118d11240>"
      ]
     },
     "metadata": {},
     "output_type": "display_data"
    }
   ],
   "source": [
    "x_data = np.linspace(0, 12, 100).reshape(-1, 1)\n",
    "X = np.hstack((np.ones((x_data.shape[0], 1)), x_data))\n",
    "\n",
    "f = X.dot(straight_line_coeffs)\n",
    "fig = plt.figure()\n",
    "ax_1 = fig.add_subplot(1, 1, 1)\n",
    "ax_1.plot(x_data, f)\n",
    "ax_1.plot(x_orig, y_vals, 'x')\n",
    "ax_1.plot(test_x_data, test_y_data, 'x')\n",
    "\n",
    "ax_1.set_ylim([-10, 50])\n",
    "plt.show()"
   ]
  },
  {
   "cell_type": "markdown",
   "metadata": {},
   "source": [
    "That looks like a much better prediction, even though we had the highest loss with this function. What happened?\n",
    "\n",
    "The answer lies in the construction of polynomials. They are nested functions in which a higher-order polynomial can exactly represent a lower-order one simply by setting some coefficients equal to 0.\n",
    "\n",
    "For example, given a polynomial of order $n$:\n",
    "\n",
    "$$y = w_0 + w_1x^1 + w_2x^2 + \\dots + w_{n-1}x^{n-1} + w_nx^n$$\n",
    "\n",
    "then we can exactly represent a polynomial of order $n-1$ with:\n",
    "\n",
    "$$y = w_0 + w_1x^1 + w_2x^2 + \\dots + w_{n-1}x^{n-1} + 0x^n$$\n",
    "\n",
    "That is, $w_n = 0$. What this means is that if we have some loss from a polynomial function, then a higher-order polynomial function will always have a smaller loss, until we reach zero loss.\n",
    "\n",
    "This means that, given enough polynomial order, we can fit a function that will pass through all the training points, but will not be generalisable at test time. This poses a problem and is referred to **overfitting**."
   ]
  },
  {
   "cell_type": "markdown",
   "metadata": {
    "collapsed": true
   },
   "source": [
    "### 3.6 - Regularisation"
   ]
  },
  {
   "cell_type": "markdown",
   "metadata": {
    "collapsed": true
   },
   "source": [
    "One strategy to stop overfitting is to use **regularisation**. These are a collection of techniques designed to reduce the model's susceptibility to overfitting, and allow it to generalise to unseen data. We will focus on one technique: l2 regularisation, also known as ridge regression or Tikhonov regression.\n",
    "\n",
    "Recall that our L2 loss function was defined as:\n",
    "\n",
    "$$\\mathcal{L}_2 = \\frac{1}{2n}\\sum_{i=0}^{n}(\\hat{y}_i - y_i)^2$$\n",
    "\n",
    "In ridge regression, we add on an additional term:\n",
    "\n",
    "$$\\mathcal{L}_2 = \\frac{1}{2n}\\sum_{i=0}^{n}(\\hat{y}_i - y_i)^2 + \\lambda \\sum_{d=1}^{D}w_{d}^{2}$$\n",
    "\n",
    "Since we are now summing over the squared weights, and we are trying to find the minimum of this overall function, it will force the weights to be small. This prevents the large swings as seen in the previous example."
   ]
  },
  {
   "cell_type": "code",
   "execution_count": null,
   "metadata": {
    "collapsed": true
   },
   "outputs": [],
   "source": []
  },
  {
   "cell_type": "code",
   "execution_count": null,
   "metadata": {
    "collapsed": true
   },
   "outputs": [],
   "source": []
  },
  {
   "cell_type": "code",
   "execution_count": null,
   "metadata": {
    "collapsed": true
   },
   "outputs": [],
   "source": []
  },
  {
   "cell_type": "code",
   "execution_count": null,
   "metadata": {
    "collapsed": true
   },
   "outputs": [],
   "source": []
  },
  {
   "cell_type": "markdown",
   "metadata": {},
   "source": [
    "### 3.4 - Into the second dimension\n",
    "\n"
   ]
  },
  {
   "cell_type": "code",
   "execution_count": null,
   "metadata": {
    "collapsed": true
   },
   "outputs": [],
   "source": []
  },
  {
   "cell_type": "code",
   "execution_count": null,
   "metadata": {
    "collapsed": true
   },
   "outputs": [],
   "source": []
  },
  {
   "cell_type": "code",
   "execution_count": null,
   "metadata": {
    "collapsed": true
   },
   "outputs": [],
   "source": []
  },
  {
   "cell_type": "code",
   "execution_count": null,
   "metadata": {
    "collapsed": true
   },
   "outputs": [],
   "source": []
  }
 ],
 "metadata": {
  "kernelspec": {
   "display_name": "Python [conda env:tf_env]",
   "language": "python",
   "name": "conda-env-tf_env-py"
  },
  "language_info": {
   "codemirror_mode": {
    "name": "ipython",
    "version": 3
   },
   "file_extension": ".py",
   "mimetype": "text/x-python",
   "name": "python",
   "nbconvert_exporter": "python",
   "pygments_lexer": "ipython3",
   "version": "3.6.2"
  }
 },
 "nbformat": 4,
 "nbformat_minor": 2
}
